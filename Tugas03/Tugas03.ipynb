{
  "nbformat": 4,
  "nbformat_minor": 0,
  "metadata": {
    "colab": {
      "name": "Tugas03.ipynb",
      "provenance": []
    },
    "kernelspec": {
      "name": "python3",
      "display_name": "Python 3"
    },
    "language_info": {
      "name": "python"
    },
    "accelerator": "GPU"
  },
  "cells": [
    {
      "cell_type": "markdown",
      "source": [
        "Nama : Lopinta Sarungallo\n",
        "\n",
        "NIM : H071191025\n",
        "\n",
        "Soal: Pelajari Chapter 5 dari d2l.ai : Deep Learning Computation"
      ],
      "metadata": {
        "id": "q8olGtRRfK_w"
      }
    },
    {
      "cell_type": "code",
      "execution_count": null,
      "metadata": {
        "id": "1yqSlQc2ZMiy"
      },
      "outputs": [],
      "source": [
        "import tensorflow as tf\n",
        "from tensorflow import keras"
      ]
    },
    {
      "cell_type": "markdown",
      "source": [
        "# 1. Layer dan Blocks\n",
        "\n",
        "Layer merupakan arsitektur atau struktur yang berisi kumpulan node yang beroperasi secara dan di waktu yang bersamaan, yang mengambil informasi dari layer sebelumnya dan kemudian meneruskan informasi ke layer berikutnya.\n",
        "\n",
        "Block atau neural network blocks merupakan konsep di mana satu atau lebih layer digambarkan / diabstraksi menjadi satu komponen (block). Salah satu manfaat utama dari abstraksi blocks adalah blocks ini bisa lagi dikombinasikan menjadi struktur yang lebih besar (biasanya secara rekursif).\n",
        "\n",
        "Dengan menggunakan konsep blocks ini, kita tetap dapat menulis kode yang ringkas dan masih mengimplementasikan neural net yang kompleks. Untuk mengimplementasikan blocks, kita membuat fungsi atau jika ingin fleksibel, kelas turunan dari tensorflow.keras.Model yang memiliki fungsi forward propagation (fungsi call()) . \n",
        "\n",
        "Contoh implementasi kode\n"
      ],
      "metadata": {
        "id": "ukFbKIlzfZVN"
      }
    },
    {
      "cell_type": "code",
      "source": [
        "# Data: digenerate secara random\n",
        "X = tf.random.uniform((2, 20))\n",
        "\n",
        "X"
      ],
      "metadata": {
        "colab": {
          "base_uri": "https://localhost:8080/"
        },
        "id": "a6E-MTlsaD0A",
        "outputId": "7a93eb92-fd2d-4b16-cece-eebf746cf126"
      },
      "execution_count": null,
      "outputs": [
        {
          "output_type": "execute_result",
          "data": {
            "text/plain": [
              "<tf.Tensor: shape=(2, 20), dtype=float32, numpy=\n",
              "array([[0.7250458 , 0.7812331 , 0.2860253 , 0.13792169, 0.7839724 ,\n",
              "        0.13899052, 0.22877407, 0.5630474 , 0.5698296 , 0.29201913,\n",
              "        0.8923713 , 0.11934936, 0.5118754 , 0.08690977, 0.31809747,\n",
              "        0.3914007 , 0.73344004, 0.9947243 , 0.99763954, 0.07119775],\n",
              "       [0.6998304 , 0.8987254 , 0.58470654, 0.87934923, 0.18865657,\n",
              "        0.6503935 , 0.22828412, 0.17233586, 0.50217617, 0.5718585 ,\n",
              "        0.17911935, 0.65175235, 0.19903302, 0.4745115 , 0.5310135 ,\n",
              "        0.76653194, 0.12745714, 0.2762015 , 0.14449227, 0.644029  ]],\n",
              "      dtype=float32)>"
            ]
          },
          "metadata": {},
          "execution_count": 3
        }
      ]
    },
    {
      "cell_type": "markdown",
      "source": [
        "Misalnya model yang akan dijadikan blok merupakan model seperti ini"
      ],
      "metadata": {
        "id": "jElUHKuGgA23"
      }
    },
    {
      "cell_type": "code",
      "source": [
        "block1 = keras.models.Sequential([\n",
        "    keras.layers.Dense(256, activation=tf.nn.relu),\n",
        "    keras.layers.Dense(10),\n",
        "])"
      ],
      "metadata": {
        "id": "-4y-vFF_aHn9"
      },
      "execution_count": null,
      "outputs": []
    },
    {
      "cell_type": "markdown",
      "source": [
        "Bentuk bloknya"
      ],
      "metadata": {
        "id": "pKeB4MwTgCLE"
      }
    },
    {
      "cell_type": "code",
      "source": [
        "class Block1(keras.Model):\n",
        "    def __init__(self):\n",
        "        super().__init__()\n",
        "        self.layer_list= []\n",
        "        self.layer_list.append(keras.layers.Dense(256, activation=tf.nn.relu))\n",
        "        self.layer_list.append(keras.layers.Dense(10))\n",
        "        self.layer_list.reverse()\n",
        "    \n",
        "    def call(self, X):\n",
        "        result_temp= X\n",
        "\n",
        "        # Melakukan forward propagation sampai layer terakhir dalam list \n",
        "        while bool(self.layer_list):\n",
        "            result_temp= self.layer_list.pop()(result_temp)\n",
        "\n",
        "        return result_temp\n",
        "        # return 1"
      ],
      "metadata": {
        "id": "TlyPLqfAaLuu"
      },
      "execution_count": null,
      "outputs": []
    },
    {
      "cell_type": "code",
      "source": [
        "net= Block1()\n",
        "net(X) # Sama saja dengan net.call(X)"
      ],
      "metadata": {
        "colab": {
          "base_uri": "https://localhost:8080/"
        },
        "id": "tsIOXwWlaO83",
        "outputId": "bc2b9196-022c-4a53-f548-68f7debff384"
      },
      "execution_count": null,
      "outputs": [
        {
          "output_type": "execute_result",
          "data": {
            "text/plain": [
              "<tf.Tensor: shape=(2, 10), dtype=float32, numpy=\n",
              "array([[ 1.8904912e-01, -2.1566553e-02,  4.5625612e-01, -1.2845834e-01,\n",
              "        -9.1123998e-02, -7.1828671e-02,  1.6553319e-01,  4.4604097e-03,\n",
              "        -1.5544681e-01,  4.6881079e-05],\n",
              "       [ 2.2053109e-02,  2.1610294e-02,  5.8731389e-01, -1.8332723e-01,\n",
              "        -2.7495167e-01,  1.5651681e-01, -1.2013686e-01,  1.7667633e-01,\n",
              "        -1.1486124e-01,  1.0844171e-01]], dtype=float32)>"
            ]
          },
          "metadata": {},
          "execution_count": 6
        }
      ]
    },
    {
      "cell_type": "markdown",
      "source": [
        "Selanjutnya kita akan membuat block ke dua yang tidak mengandung layer satu per satu tapi mengandung model"
      ],
      "metadata": {
        "id": "AegS-zeIgHWQ"
      }
    },
    {
      "cell_type": "code",
      "source": [
        "class Block2(keras.Model):\n",
        "    def __init__(self):\n",
        "        super().__init__()\n",
        "        self.net= keras.Sequential()\n",
        "        self.net.add(keras.layers.Dense(256, activation=tf.nn.relu))\n",
        "        self.net.add(keras.layers.Dense(10))\n",
        "    \n",
        "    def call(self, X):\n",
        "        return self.net(X)"
      ],
      "metadata": {
        "id": "FDPqXyRKdbnj"
      },
      "execution_count": null,
      "outputs": []
    },
    {
      "cell_type": "markdown",
      "source": [
        "Kemudian satukan"
      ],
      "metadata": {
        "id": "2Y2gX6DrgJgZ"
      }
    },
    {
      "cell_type": "code",
      "source": [
        "net= keras.Sequential()\n",
        "\n",
        "# Menambahkan layer pertama yang mana merupakan block 2\n",
        "net.add(Block2())\n",
        "\n",
        "# Menambahkan block 1\n",
        "net.add(Block1())\n",
        "\n",
        "# # Menambahkan satu lagi layer dense biasa\n",
        "net.add(keras.layers.Dense(10, activation= 'sigmoid'))\n",
        "\n",
        "# Melakukan forward propagation\n",
        "net(X)"
      ],
      "metadata": {
        "colab": {
          "base_uri": "https://localhost:8080/"
        },
        "id": "MKygBKVvdsCW",
        "outputId": "6d689027-faef-4f3d-db6b-ba95db9bc86f"
      },
      "execution_count": null,
      "outputs": [
        {
          "output_type": "execute_result",
          "data": {
            "text/plain": [
              "<tf.Tensor: shape=(2, 10), dtype=float32, numpy=\n",
              "array([[0.49946293, 0.41505975, 0.50440824, 0.4758867 , 0.50704443,\n",
              "        0.4546392 , 0.45419297, 0.5167015 , 0.49893108, 0.43906072],\n",
              "       [0.4121948 , 0.48233908, 0.5370872 , 0.42183027, 0.5670335 ,\n",
              "        0.53832537, 0.52566886, 0.542594  , 0.54677814, 0.4792155 ]],\n",
              "      dtype=float32)>"
            ]
          },
          "metadata": {},
          "execution_count": 8
        }
      ]
    },
    {
      "cell_type": "markdown",
      "source": [
        "# 2. Parameter Management\n",
        "\n",
        "Parameter management atau manajemen parameter termasuk (Parameter dalam kasus neural network contohnya weight dan bias, fungsi loss atau learning rate merupakan hyperparameter):\n",
        "\n",
        "Mengakses parameter untuk debugging, diagnostik, dan visualisasi.\n",
        "Inisialisasi parameter.\n",
        "Berbagi parameter dengan komponen model lain.\n",
        "\n"
      ],
      "metadata": {
        "id": "BS5obHIDgNHE"
      }
    },
    {
      "cell_type": "markdown",
      "source": [
        "## Mengakses Parameter\n",
        "\n",
        "Model:"
      ],
      "metadata": {
        "id": "uMxTOx0Zga5J"
      }
    },
    {
      "cell_type": "code",
      "source": [
        "net = keras.models.Sequential([\n",
        "    keras.layers.Flatten(),\n",
        "    keras.layers.Dense(4, activation=tf.nn.relu),\n",
        "    keras.layers.Dense(1),\n",
        "])\n",
        "\n",
        "X = tf.random.uniform((2, 4))\n",
        "net(X)"
      ],
      "metadata": {
        "colab": {
          "base_uri": "https://localhost:8080/"
        },
        "id": "L6s19NbodvZU",
        "outputId": "e511517f-a0a0-46e3-a36a-09521a690eed"
      },
      "execution_count": null,
      "outputs": [
        {
          "output_type": "execute_result",
          "data": {
            "text/plain": [
              "<tf.Tensor: shape=(2, 1), dtype=float32, numpy=\n",
              "array([[0.17184342],\n",
              "       [0.35465258]], dtype=float32)>"
            ]
          },
          "metadata": {},
          "execution_count": 9
        }
      ]
    },
    {
      "cell_type": "markdown",
      "source": [
        "Mengambil weight dan bias dari setiap layer net"
      ],
      "metadata": {
        "id": "eC_mZ2gNggKs"
      }
    },
    {
      "cell_type": "code",
      "source": [
        "net.weights\n",
        "# Atau net.get_weights()"
      ],
      "metadata": {
        "colab": {
          "base_uri": "https://localhost:8080/"
        },
        "id": "F6XZCxNKdyUj",
        "outputId": "d56ff57d-c309-4583-d933-2808c199d8af"
      },
      "execution_count": null,
      "outputs": [
        {
          "output_type": "execute_result",
          "data": {
            "text/plain": [
              "[<tf.Variable 'dense_9/kernel:0' shape=(4, 4) dtype=float32, numpy=\n",
              " array([[-0.8619006 , -0.02977639, -0.6566596 ,  0.509875  ],\n",
              "        [ 0.05028754, -0.6336104 ,  0.44476324, -0.82829285],\n",
              "        [-0.28720802,  0.8080464 ,  0.4687975 ,  0.34760433],\n",
              "        [ 0.42062885, -0.48057932,  0.30534905, -0.34293258]],\n",
              "       dtype=float32)>,\n",
              " <tf.Variable 'dense_9/bias:0' shape=(4,) dtype=float32, numpy=array([0., 0., 0., 0.], dtype=float32)>,\n",
              " <tf.Variable 'dense_10/kernel:0' shape=(4, 1) dtype=float32, numpy=\n",
              " array([[ 0.40594113],\n",
              "        [-1.0012045 ],\n",
              "        [ 0.9572525 ],\n",
              "        [ 0.9913094 ]], dtype=float32)>,\n",
              " <tf.Variable 'dense_10/bias:0' shape=(1,) dtype=float32, numpy=array([0.], dtype=float32)>]"
            ]
          },
          "metadata": {},
          "execution_count": 10
        }
      ]
    },
    {
      "cell_type": "markdown",
      "source": [
        "Untuk mendapatkan parameter pada layer yang ingin diakses, dilakukan dengan memanggil atribut .layers[index dari layer] dari model sequential. Misal layer yang ingin diakses parameternya yaitu layer indeks ke-1"
      ],
      "metadata": {
        "id": "GdwGyb3PgkmJ"
      }
    },
    {
      "cell_type": "markdown",
      "source": [
        "net.layers[1]"
      ],
      "metadata": {
        "id": "eCPiqT6Vd0F4"
      }
    },
    {
      "cell_type": "markdown",
      "source": [
        "Selanjutnya untuk mengakses parameter weight dan bias"
      ],
      "metadata": {
        "id": "gIAL7XW6giwS"
      }
    },
    {
      "cell_type": "code",
      "source": [
        "net.layers[1].weights"
      ],
      "metadata": {
        "colab": {
          "base_uri": "https://localhost:8080/"
        },
        "id": "mRvH1HHqd4PT",
        "outputId": "ac042a29-1e06-4442-927f-dde35719b321"
      },
      "execution_count": null,
      "outputs": [
        {
          "output_type": "execute_result",
          "data": {
            "text/plain": [
              "[<tf.Variable 'dense_9/kernel:0' shape=(4, 4) dtype=float32, numpy=\n",
              " array([[-0.8619006 , -0.02977639, -0.6566596 ,  0.509875  ],\n",
              "        [ 0.05028754, -0.6336104 ,  0.44476324, -0.82829285],\n",
              "        [-0.28720802,  0.8080464 ,  0.4687975 ,  0.34760433],\n",
              "        [ 0.42062885, -0.48057932,  0.30534905, -0.34293258]],\n",
              "       dtype=float32)>,\n",
              " <tf.Variable 'dense_9/bias:0' shape=(4,) dtype=float32, numpy=array([0., 0., 0., 0.], dtype=float32)>]"
            ]
          },
          "metadata": {},
          "execution_count": 12
        }
      ]
    },
    {
      "cell_type": "markdown",
      "source": [
        "Outputnya berupa array, indeks ke-0 merupakan weights, indeks ke-1 merupakan bias\n",
        "\n",
        "Untuk layer yang berupa block (memiliki layer lagi di dalamnya), kita tetap bisa mengakses nya seperti ini:\n",
        "\n",
        "net.layers[0].layers[1].layers[1].weights[1]"
      ],
      "metadata": {
        "id": "zBLcRKWCgr_v"
      }
    },
    {
      "cell_type": "markdown",
      "source": [
        "### Inisialisasi Parameter\n",
        "\n",
        "Secara default (untuk tensorflow), matriks weight diinisialisasikan berdasarkan range yang dikomputasi dari dimensi input dan output, sementara parameter bias mempunyai nilai default 0.\n",
        "\n",
        "Misal menginisialisasi weight sebagai variabel random Gaussian dengan standar deviasi 0.01, dan menginisialisasi parameter bias dengan nilai 0."
      ],
      "metadata": {
        "id": "zmAZRa5Ggs9t"
      }
    },
    {
      "cell_type": "code",
      "source": [
        "net = keras.models.Sequential([\n",
        "    keras.layers.Flatten(),\n",
        "    keras.layers.Dense(4, activation=tf.nn.relu, \n",
        "                       kernel_initializer=tf.random_normal_initializer(mean=0, stddev=0.01), \n",
        "                       bias_initializer=tf.zeros_initializer()),\n",
        "    keras.layers.Dense(1)\n",
        "])\n",
        "\n",
        "net(X)\n",
        "net.layers[1].weights[0], net.layers[1].weights[1]"
      ],
      "metadata": {
        "colab": {
          "base_uri": "https://localhost:8080/"
        },
        "id": "zdE8wRcWd76H",
        "outputId": "4079e1c4-2b95-4b4d-bdc5-ed414abf3afe"
      },
      "execution_count": null,
      "outputs": [
        {
          "output_type": "execute_result",
          "data": {
            "text/plain": [
              "(<tf.Variable 'dense_11/kernel:0' shape=(4, 4) dtype=float32, numpy=\n",
              " array([[ 0.0004697 ,  0.01119652,  0.00130588, -0.00839333],\n",
              "        [-0.01070861,  0.00124902,  0.00244164, -0.00724455],\n",
              "        [-0.02358088, -0.00429182, -0.00405262,  0.00609773],\n",
              "        [ 0.00687516,  0.01036162, -0.00047495, -0.01063034]],\n",
              "       dtype=float32)>,\n",
              " <tf.Variable 'dense_11/bias:0' shape=(4,) dtype=float32, numpy=array([0., 0., 0., 0.], dtype=float32)>)"
            ]
          },
          "metadata": {},
          "execution_count": 13
        }
      ]
    },
    {
      "cell_type": "markdown",
      "source": [
        "Kita juga bisa menginisialisasikan weight yang berbeda pada setiap layer, misal weight layer dense kedua diisi dengan angka konstan 0.5."
      ],
      "metadata": {
        "id": "W29V8_MUgzLD"
      }
    },
    {
      "cell_type": "code",
      "source": [
        "net = keras.models.Sequential([\n",
        "    keras.layers.Flatten(),\n",
        "    keras.layers.Dense(4, activation=tf.nn.relu, \n",
        "                       kernel_initializer=tf.random_normal_initializer(mean=0, stddev=0.01), \n",
        "                       bias_initializer=tf.zeros_initializer()),\n",
        "    keras.layers.Dense(4, activation=tf.nn.relu, \n",
        "                       kernel_initializer=keras.initializers.Constant(0.5), \n",
        "                       bias_initializer=tf.zeros_initializer()),\n",
        "    keras.layers.Dense(1)\n",
        "])\n",
        "\n",
        "net(X)\n",
        "net.layers[1].weights[0], net.layers[2].weights[0]"
      ],
      "metadata": {
        "colab": {
          "base_uri": "https://localhost:8080/"
        },
        "id": "DKBPkylId-aD",
        "outputId": "1729d51d-8a9d-4594-dc22-c5ec36e6a1ad"
      },
      "execution_count": null,
      "outputs": [
        {
          "output_type": "execute_result",
          "data": {
            "text/plain": [
              "(<tf.Variable 'dense_13/kernel:0' shape=(4, 4) dtype=float32, numpy=\n",
              " array([[-0.01897863, -0.02186587, -0.00879242, -0.00187525],\n",
              "        [ 0.01498427,  0.00489209,  0.0017231 ,  0.00040562],\n",
              "        [ 0.02421116,  0.00943782,  0.01279427,  0.00351813],\n",
              "        [-0.00221438, -0.0045473 ,  0.00440709, -0.02620335]],\n",
              "       dtype=float32)>,\n",
              " <tf.Variable 'dense_14/kernel:0' shape=(4, 4) dtype=float32, numpy=\n",
              " array([[0.5, 0.5, 0.5, 0.5],\n",
              "        [0.5, 0.5, 0.5, 0.5],\n",
              "        [0.5, 0.5, 0.5, 0.5],\n",
              "        [0.5, 0.5, 0.5, 0.5]], dtype=float32)>)"
            ]
          },
          "metadata": {},
          "execution_count": 14
        }
      ]
    },
    {
      "cell_type": "markdown",
      "source": [
        "Kita juga bisa membuat subclass kita sendiri untuk inisialisasi weight jika cara di atas kurang flexibel, caranya yaitu kita membuat class subclass dari keras.initializers.Initializer , lalu mengimplementasikan method call(shape, dtype) yang me-return tensor (berisi weight inisial) yang isinya sesuai kemauan kita"
      ],
      "metadata": {
        "id": "ql4RyBzXg4NK"
      }
    },
    {
      "cell_type": "code",
      "source": [
        "# Di sini kita membuat class untuk inisialisasi weight\n",
        "class MyInit(tf.keras.initializers.Initializer):\n",
        "    def __call__(self, shape, dtype=None):\n",
        "        data=tf.random.uniform(shape, -10, 10, dtype=dtype)\n",
        "        factor=(tf.abs(data) >= 5)\n",
        "        factor=tf.cast(factor, tf.float32)\n",
        "        return data * factor"
      ],
      "metadata": {
        "id": "-10Nv3XyeCLd"
      },
      "execution_count": null,
      "outputs": []
    },
    {
      "cell_type": "code",
      "source": [
        "MyInit().__call__(shape=(3, 3), dtype=tf.float32)"
      ],
      "metadata": {
        "colab": {
          "base_uri": "https://localhost:8080/"
        },
        "id": "_yEyq_oceDXN",
        "outputId": "0db133b6-3763-4d85-9c58-0aa6221c4fe1"
      },
      "execution_count": null,
      "outputs": [
        {
          "output_type": "execute_result",
          "data": {
            "text/plain": [
              "<tf.Tensor: shape=(3, 3), dtype=float32, numpy=\n",
              "array([[-0.       , -0.       , -9.723315 ],\n",
              "       [ 5.3541164,  6.115057 ,  0.       ],\n",
              "       [ 0.       ,  8.298063 , -0.       ]], dtype=float32)>"
            ]
          },
          "metadata": {},
          "execution_count": 16
        }
      ]
    },
    {
      "cell_type": "code",
      "source": [
        "net = keras.models.Sequential([\n",
        "    keras.layers.Flatten(),\n",
        "    # Memasukkan kelas initializer pada parameter kernel_initializer\n",
        "    keras.layers.Dense(4, activation=tf.nn.relu, kernel_initializer=MyInit()),\n",
        "    keras.layers.Dense(1),\n",
        "])\n",
        "\n",
        "net(X)\n",
        "print(net.layers[1].weights[0])"
      ],
      "metadata": {
        "colab": {
          "base_uri": "https://localhost:8080/"
        },
        "id": "WwTeJYSdeFVD",
        "outputId": "8e1f29fe-5c8b-4585-f248-47a08675fdda"
      },
      "execution_count": null,
      "outputs": [
        {
          "output_type": "stream",
          "name": "stdout",
          "text": [
            "<tf.Variable 'dense_16/kernel:0' shape=(4, 4) dtype=float32, numpy=\n",
            "array([[ 0.       , -8.799205 , -0.       , -8.715923 ],\n",
            "       [-0.       ,  0.       ,  0.       , -5.374882 ],\n",
            "       [ 0.       , -5.806229 , -6.8254805,  7.19158  ],\n",
            "       [-5.430324 , -5.879984 ,  6.528591 ,  0.       ]], dtype=float32)>\n"
          ]
        }
      ]
    },
    {
      "cell_type": "markdown",
      "source": [
        "# 3. Deferred Initialization\n",
        "Inisialisasi weight pada model ditangguhkan sebelum data di-pass ke model. Ini dikarenakan model masih belum mengetahui input shape dari data, maka dari itu model menangguhkan inisialisasi parameter, konsep ini juga membuat kita tidak perlu mendefinisikan input shape dari setiap layer, yang mana pastinya sangat membantu terutama jika dataset berupa gambar (yang mana mempunyai shape yang dinamis)\n",
        "\n",
        "Contohnya seperti kasus berikut, pertama-tama kita membuat model lalu memanggil weight nya"
      ],
      "metadata": {
        "id": "fEO1xkzpg7Wq"
      }
    },
    {
      "cell_type": "code",
      "source": [
        "net = keras.models.Sequential([\n",
        "    keras.layers.Dense(256, activation=tf.nn.relu),\n",
        "    keras.layers.Dense(10),\n",
        "])\n",
        "[net.layers[i].get_weights() for i in range(len(net.layers))]"
      ],
      "metadata": {
        "colab": {
          "base_uri": "https://localhost:8080/"
        },
        "id": "otb4A2PneJJs",
        "outputId": "8bc0cf1d-35c6-40cf-982a-44d30797c5f4"
      },
      "execution_count": null,
      "outputs": [
        {
          "output_type": "execute_result",
          "data": {
            "text/plain": [
              "[[], []]"
            ]
          },
          "metadata": {},
          "execution_count": 18
        }
      ]
    },
    {
      "cell_type": "markdown",
      "source": [
        "Kita bisa melihat weightnya masih kosong karena belum diinisialisasikan sama sekali"
      ],
      "metadata": {
        "id": "3tBxfxP4hCaJ"
      }
    },
    {
      "cell_type": "code",
      "source": [
        "# Feed model dengan X\n",
        "net(X)\n",
        "\n",
        "[w.shape for w in net.get_weights()], net.layers[0].get_weights()[0]"
      ],
      "metadata": {
        "colab": {
          "base_uri": "https://localhost:8080/"
        },
        "id": "-jKB2vrWeOBN",
        "outputId": "71ded9a3-7e04-48bf-c819-be4df4f2604c"
      },
      "execution_count": null,
      "outputs": [
        {
          "output_type": "execute_result",
          "data": {
            "text/plain": [
              "([(4, 256), (256,), (256, 10), (10,)],\n",
              " array([[-0.11825895,  0.06696358,  0.06014265, ..., -0.00091687,\n",
              "          0.108962  ,  0.04111561],\n",
              "        [-0.11580317,  0.07439198, -0.0238121 , ..., -0.00879824,\n",
              "         -0.10376012,  0.09112103],\n",
              "        [-0.12448703, -0.03093658,  0.07049052, ..., -0.06845955,\n",
              "         -0.09233275, -0.07080831],\n",
              "        [-0.07194716,  0.07404892, -0.06215306, ..., -0.08092736,\n",
              "          0.14182144,  0.01678324]], dtype=float32))"
            ]
          },
          "metadata": {},
          "execution_count": 19
        }
      ]
    },
    {
      "cell_type": "markdown",
      "source": [
        "Barulah setelah data di-pass weightnya terinisialisasi. Ini dinamakan Deferred Initialization (penangguhan inisialisasi)."
      ],
      "metadata": {
        "id": "1grKV7yOhFLB"
      }
    },
    {
      "cell_type": "markdown",
      "source": [
        "# 4. Custom Layers\n",
        "Pada kasus-kasus tertentu, kita berhadapan dengan masalah di mana kita membutuhkan layer yang belum pernah dibuat atau belum ada pada library, untuk mengatasi masalah tersebut, kita bisa membuat layer kustom kita sendiri. Membuat layer kustom sama saja seperti membuat blok. Terdapat 2 jenis kustom layer: layer tanpa atau dengan parameter (seperti weight atau bias)"
      ],
      "metadata": {
        "id": "7iMufR-ChGbQ"
      }
    },
    {
      "cell_type": "markdown",
      "source": [
        "### Layer tanpa parameter\n",
        "\n",
        "\n",
        "Layer tanpa parameter merupakan layer yang tidak mempunyai weight dan bias di dalamnya (seperti layer flatten). Misal kita ingin membuat layer yang mengurangi input dengan satu"
      ],
      "metadata": {
        "id": "WAc0-T5vhJco"
      }
    },
    {
      "cell_type": "code",
      "source": [
        "class MinusOneLayer(keras.Model):\n",
        "    def __init__(self):\n",
        "        super().__init__()\n",
        "\n",
        "    def call(self, input):\n",
        "        return input - tf.ones(input.shape)"
      ],
      "metadata": {
        "id": "HBHVIYXPeSqH"
      },
      "execution_count": null,
      "outputs": []
    },
    {
      "cell_type": "code",
      "source": [
        "layer_wo_params= MinusOneLayer()\n",
        "layer_wo_params(tf.constant([1.,2.,3.]))"
      ],
      "metadata": {
        "colab": {
          "base_uri": "https://localhost:8080/"
        },
        "id": "aBKD07I8eTgb",
        "outputId": "f410009e-9ab2-456f-dbf9-fc50606be683"
      },
      "execution_count": null,
      "outputs": [
        {
          "output_type": "execute_result",
          "data": {
            "text/plain": [
              "<tf.Tensor: shape=(3,), dtype=float32, numpy=array([0., 1., 2.], dtype=float32)>"
            ]
          },
          "metadata": {},
          "execution_count": 21
        }
      ]
    },
    {
      "cell_type": "markdown",
      "source": [
        "Mengimplementasikannya pada model"
      ],
      "metadata": {
        "id": "2ASaSIXVhSnX"
      }
    },
    {
      "cell_type": "code",
      "source": [
        "net = keras.Sequential([keras.layers.Dense(128), MinusOneLayer()])"
      ],
      "metadata": {
        "id": "YaEjyojfeV3J"
      },
      "execution_count": null,
      "outputs": []
    },
    {
      "cell_type": "markdown",
      "source": [
        "### Layer dengan parameter\n",
        "Layer dengan parameter mempunyai dan melibatkan weight dan bias pada operasinya. Misal kita ingin membuat layer dense yang berfungsi sama dengan layer dense pada umumnya (input * weight + bias lalu aktivasi). Walaupun kita mengatur/inisialisasi parameter semau kita, parameter juga tetap berubah saat proses back propagation"
      ],
      "metadata": {
        "id": "V8yURDeZhTVY"
      }
    },
    {
      "cell_type": "code",
      "source": [
        "class MyDense(keras.Model):\n",
        "    # Di sini kita berikan dua parameter saja yaitu untuk output dan aktivasi (tentu saja kita bisa menambahkannya sesuai kebutuhan)\n",
        "    def __init__(self, units, activation=None):\n",
        "        super().__init__()\n",
        "        self.units = units\n",
        "        self.activation= activation\n",
        "\n",
        "    # Pada method build kita inisialisasi weight dan bias, fungsi build hanya dijalankan satu kali\n",
        "    # Jadi weight dan bias tetap akan ter-update saat back propagation\n",
        "    def build(self, X_shape):\n",
        "        self.weight = self.add_weight(name='weight',\n",
        "            shape=[X_shape[-1], self.units],\n",
        "            initializer=tf.random_normal_initializer())\n",
        "        self.bias = self.add_weight(\n",
        "            name='bias', shape=[self.units],\n",
        "            initializer=tf.zeros_initializer())\n",
        "\n",
        "    # Pada fungsi call kita melakukan operasi (input * weight + bias lalu aktivasi)\n",
        "    def call(self, X):\n",
        "        linear = tf.matmul(X, self.weight) + self.bias\n",
        "\n",
        "        if self.activation is None:\n",
        "            return linear\n",
        "        \n",
        "        return self.activation(linear)"
      ],
      "metadata": {
        "id": "K6Jr_ySleXzM"
      },
      "execution_count": null,
      "outputs": []
    },
    {
      "cell_type": "code",
      "source": [
        "temp_dense= MyDense(5)\n",
        "temp_dense(X)\n",
        "\n",
        "temp_dense.get_weights()"
      ],
      "metadata": {
        "colab": {
          "base_uri": "https://localhost:8080/"
        },
        "id": "EUvz41MLeain",
        "outputId": "02425073-a3bf-487f-f6f6-4a4362258d43"
      },
      "execution_count": null,
      "outputs": [
        {
          "output_type": "execute_result",
          "data": {
            "text/plain": [
              "[array([[-0.05568484,  0.00387324, -0.02981849, -0.04221389, -0.06546652],\n",
              "        [ 0.04056905, -0.09633523, -0.11978207, -0.03083634,  0.02450412],\n",
              "        [-0.03103748,  0.00274478,  0.03435281, -0.09713116, -0.0656438 ],\n",
              "        [-0.09470006,  0.02267141, -0.01109368,  0.00492686,  0.02717558]],\n",
              "       dtype=float32), array([0., 0., 0., 0., 0.], dtype=float32)]"
            ]
          },
          "metadata": {},
          "execution_count": 24
        }
      ]
    },
    {
      "cell_type": "markdown",
      "source": [
        "Selanjutnya membuat model dengan 2 layer MyDense yang telah dibuat"
      ],
      "metadata": {
        "id": "vO9OUDWMhZly"
      }
    },
    {
      "cell_type": "code",
      "source": [
        "net= keras.Sequential([\n",
        "    keras.layers.Flatten(),\n",
        "    MyDense(128, tf.nn.relu), \n",
        "    MyDense(64, tf.nn.relu), \n",
        "    MyDense(32, tf.nn.relu), \n",
        "    MyDense(10, tf.nn.softmax)\n",
        "])\n",
        "\n",
        "net.compile(optimizer='adam', loss='sparse_categorical_crossentropy', metrics=['accuracy'])"
      ],
      "metadata": {
        "id": "8NY6sMPdecdY"
      },
      "execution_count": null,
      "outputs": []
    },
    {
      "cell_type": "markdown",
      "source": [
        "Kita akan mengetes model tersebut pada dataset mnist"
      ],
      "metadata": {
        "id": "makzlXCrhdJw"
      }
    },
    {
      "cell_type": "code",
      "source": [
        "(x_train, y_train), (x_test, y_test)= keras.datasets.mnist.load_data()\n",
        "x_train, x_test= x_train/255, x_test/255"
      ],
      "metadata": {
        "colab": {
          "base_uri": "https://localhost:8080/"
        },
        "id": "vRJ3LeVTehd-",
        "outputId": "e9d8f20e-6832-4c8b-bd16-ecd5a758238b"
      },
      "execution_count": null,
      "outputs": [
        {
          "output_type": "stream",
          "name": "stdout",
          "text": [
            "Downloading data from https://storage.googleapis.com/tensorflow/tf-keras-datasets/mnist.npz\n",
            "11493376/11490434 [==============================] - 0s 0us/step\n",
            "11501568/11490434 [==============================] - 0s 0us/step\n"
          ]
        }
      ]
    },
    {
      "cell_type": "code",
      "source": [
        "net.fit(x_train, y_train, epochs=3, batch_size= 128)"
      ],
      "metadata": {
        "colab": {
          "base_uri": "https://localhost:8080/"
        },
        "id": "-h0yyMeKekIf",
        "outputId": "9ba26d88-5d1b-4104-cec6-6c7778e1ee40"
      },
      "execution_count": null,
      "outputs": [
        {
          "output_type": "stream",
          "name": "stdout",
          "text": [
            "Epoch 1/3\n",
            "469/469 [==============================] - 5s 5ms/step - loss: 0.5305 - accuracy: 0.8451\n",
            "Epoch 2/3\n",
            "469/469 [==============================] - 2s 4ms/step - loss: 0.2045 - accuracy: 0.9411\n",
            "Epoch 3/3\n",
            "469/469 [==============================] - 2s 4ms/step - loss: 0.1417 - accuracy: 0.9585\n"
          ]
        },
        {
          "output_type": "execute_result",
          "data": {
            "text/plain": [
              "<keras.callbacks.History at 0x7f89603ace90>"
            ]
          },
          "metadata": {},
          "execution_count": 27
        }
      ]
    },
    {
      "cell_type": "code",
      "source": [
        "net.evaluate(x_test, y_test)"
      ],
      "metadata": {
        "colab": {
          "base_uri": "https://localhost:8080/"
        },
        "id": "XEspZb9Feo1r",
        "outputId": "bdff9d36-7c26-4b73-b712-f3f43f5451cf"
      },
      "execution_count": null,
      "outputs": [
        {
          "output_type": "stream",
          "name": "stdout",
          "text": [
            "313/313 [==============================] - 2s 5ms/step - loss: 0.1271 - accuracy: 0.9644\n"
          ]
        },
        {
          "output_type": "execute_result",
          "data": {
            "text/plain": [
              "[0.1271296590566635, 0.9643999934196472]"
            ]
          },
          "metadata": {},
          "execution_count": 28
        }
      ]
    },
    {
      "cell_type": "markdown",
      "source": [
        "# 5. File I/O"
      ],
      "metadata": {
        "id": "XH4krCgdhgXJ"
      }
    },
    {
      "cell_type": "markdown",
      "source": [
        "### Save / Load Tensor\n",
        "Untuk tensor, kita bisa menggunakan numpy.save(namaFile.npy, tensor) untuk menyimpan tensor dan numpy.load(namaFile.npy) untuk memuatnya."
      ],
      "metadata": {
        "id": "hXwr5srMhhwe"
      }
    },
    {
      "cell_type": "code",
      "source": [
        "save_x= tf.constant(['a', 'b', 'c'])\n",
        "save_x"
      ],
      "metadata": {
        "colab": {
          "base_uri": "https://localhost:8080/"
        },
        "id": "OYR7ChOMerHz",
        "outputId": "7d801f99-48f5-4e61-abb8-488bb4626129"
      },
      "execution_count": null,
      "outputs": [
        {
          "output_type": "execute_result",
          "data": {
            "text/plain": [
              "<tf.Tensor: shape=(3,), dtype=string, numpy=array([b'a', b'b', b'c'], dtype=object)>"
            ]
          },
          "metadata": {},
          "execution_count": 29
        }
      ]
    },
    {
      "cell_type": "markdown",
      "source": [
        "Menyimpan tensor"
      ],
      "metadata": {
        "id": "lvcSsjI7hmtm"
      }
    },
    {
      "cell_type": "code",
      "source": [
        "import numpy as np\n",
        "\n",
        "np.save('save-x.npy', save_x)"
      ],
      "metadata": {
        "id": "wBnApMtrer8b"
      },
      "execution_count": null,
      "outputs": []
    },
    {
      "cell_type": "markdown",
      "source": [
        "Meload tensor"
      ],
      "metadata": {
        "id": "YehhAkFyhq4q"
      }
    },
    {
      "cell_type": "code",
      "source": [
        "temp_x= np.load('save-x.npy', allow_pickle=True)\n",
        "temp_x"
      ],
      "metadata": {
        "colab": {
          "base_uri": "https://localhost:8080/"
        },
        "id": "b-PqOWRzeuA9",
        "outputId": "97bb13ec-af0f-479f-ca1c-c511dea776d0"
      },
      "execution_count": null,
      "outputs": [
        {
          "output_type": "execute_result",
          "data": {
            "text/plain": [
              "array([b'a', b'b', b'c'], dtype=object)"
            ]
          },
          "metadata": {},
          "execution_count": 31
        }
      ]
    },
    {
      "cell_type": "markdown",
      "source": [
        "### Save / Load Model Parameter\n",
        "Misal model kita seperti ini"
      ],
      "metadata": {
        "id": "QLVkA1QjhtU9"
      }
    },
    {
      "cell_type": "code",
      "source": [
        "class MLP(tf.keras.Model):\n",
        "    def __init__(self):\n",
        "        super().__init__()\n",
        "        self.flatten = tf.keras.layers.Flatten()\n",
        "        self.hidden = tf.keras.layers.Dense(units=256, activation=tf.nn.relu)\n",
        "        self.out = tf.keras.layers.Dense(units=10)\n",
        "\n",
        "    def call(self, inputs):\n",
        "        x = self.flatten(inputs)\n",
        "        x = self.hidden(x)\n",
        "        return self.out(x)\n",
        "\n",
        "net= MLP()"
      ],
      "metadata": {
        "id": "z1HPT-m8exal"
      },
      "execution_count": null,
      "outputs": []
    },
    {
      "cell_type": "markdown",
      "source": [
        "Lalu kita melakukan feed forward pada model"
      ],
      "metadata": {
        "id": "vpfJqpT3hwIn"
      }
    },
    {
      "cell_type": "code",
      "source": [
        "Y1= net(X)\n",
        "Y1"
      ],
      "metadata": {
        "colab": {
          "base_uri": "https://localhost:8080/"
        },
        "id": "uOnTLfxIeyM9",
        "outputId": "7506b5a5-a259-4e99-e46a-497fbca14ec5"
      },
      "execution_count": null,
      "outputs": [
        {
          "output_type": "execute_result",
          "data": {
            "text/plain": [
              "<tf.Tensor: shape=(2, 10), dtype=float32, numpy=\n",
              "array([[-0.02405046,  0.13314383,  0.0316291 ,  0.07723983,  0.0941774 ,\n",
              "         0.09787807, -0.09560215, -0.00592709,  0.05555975,  0.0734397 ],\n",
              "       [-0.04398845,  0.09163702,  0.05900822,  0.06908892,  0.08900558,\n",
              "         0.17349096,  0.01819794, -0.0093819 ,  0.00583143,  0.02785756]],\n",
              "      dtype=float32)>"
            ]
          },
          "metadata": {},
          "execution_count": 33
        }
      ]
    },
    {
      "cell_type": "markdown",
      "source": [
        "Sekarang kita akan menyimpan parameter model dengan fungsi save_weights('nama_weight.params')"
      ],
      "metadata": {
        "id": "HurLwbmFh1Ti"
      }
    },
    {
      "cell_type": "code",
      "source": [
        "net.save_weights('mlp.params')"
      ],
      "metadata": {
        "id": "prGR3G3Dez1F"
      },
      "execution_count": null,
      "outputs": []
    },
    {
      "cell_type": "markdown",
      "source": [
        "Sekarang kita akan membuat model dengan arsitektur yang sama tapi tidak dilakukan feed forward, sebaliknya parameternya diambil/diload dari file parameter yang telah di-save sebelumnya"
      ],
      "metadata": {
        "id": "YzNNKShpiBOM"
      }
    },
    {
      "cell_type": "code",
      "source": [
        "net_2= MLP()\n",
        "net_2.load_weights('mlp.params')\n",
        "\n",
        "# Feed forward\n",
        "Y2= net_2(X)"
      ],
      "metadata": {
        "id": "YuR0QhwXe2Kw"
      },
      "execution_count": null,
      "outputs": []
    },
    {
      "cell_type": "markdown",
      "source": [
        "Sekarang kita akan membandingkan variabel Y1 dengan Y2"
      ],
      "metadata": {
        "id": "VhwAKzZIh3eF"
      }
    },
    {
      "cell_type": "code",
      "source": [
        "Y1==Y2"
      ],
      "metadata": {
        "colab": {
          "base_uri": "https://localhost:8080/"
        },
        "id": "8Ew5eFJhe4Pv",
        "outputId": "01f404fe-81db-4f06-b740-5d142049817c"
      },
      "execution_count": null,
      "outputs": [
        {
          "output_type": "execute_result",
          "data": {
            "text/plain": [
              "<tf.Tensor: shape=(2, 10), dtype=bool, numpy=\n",
              "array([[ True,  True,  True,  True,  True,  True,  True,  True,  True,\n",
              "         True],\n",
              "       [ True,  True,  True,  True,  True,  True,  True,  True,  True,\n",
              "         True]])>"
            ]
          },
          "metadata": {},
          "execution_count": 36
        }
      ]
    },
    {
      "cell_type": "markdown",
      "source": [
        "Hasilnya adalah sama"
      ],
      "metadata": {
        "id": "eVcVQUXkh8zV"
      }
    },
    {
      "cell_type": "markdown",
      "source": [
        "# 6. GPUs\n",
        "Mengecek ketersediaan GPU"
      ],
      "metadata": {
        "id": "k_D2HoE1iGAg"
      }
    },
    {
      "cell_type": "code",
      "source": [
        "!nvidia-smi"
      ],
      "metadata": {
        "colab": {
          "base_uri": "https://localhost:8080/"
        },
        "id": "EJ2UJQVXe6bp",
        "outputId": "f889cb77-6676-4a3a-d147-2150e005b4a7"
      },
      "execution_count": null,
      "outputs": [
        {
          "output_type": "stream",
          "name": "stdout",
          "text": [
            "Sat Apr 23 12:53:11 2022       \n",
            "+-----------------------------------------------------------------------------+\n",
            "| NVIDIA-SMI 460.32.03    Driver Version: 460.32.03    CUDA Version: 11.2     |\n",
            "|-------------------------------+----------------------+----------------------+\n",
            "| GPU  Name        Persistence-M| Bus-Id        Disp.A | Volatile Uncorr. ECC |\n",
            "| Fan  Temp  Perf  Pwr:Usage/Cap|         Memory-Usage | GPU-Util  Compute M. |\n",
            "|                               |                      |               MIG M. |\n",
            "|===============================+======================+======================|\n",
            "|   0  Tesla K80           Off  | 00000000:00:04.0 Off |                    0 |\n",
            "| N/A   73C    P0    71W / 149W |    707MiB / 11441MiB |      0%      Default |\n",
            "|                               |                      |                  N/A |\n",
            "+-------------------------------+----------------------+----------------------+\n",
            "                                                                               \n",
            "+-----------------------------------------------------------------------------+\n",
            "| Processes:                                                                  |\n",
            "|  GPU   GI   CI        PID   Type   Process name                  GPU Memory |\n",
            "|        ID   ID                                                   Usage      |\n",
            "|=============================================================================|\n",
            "+-----------------------------------------------------------------------------+\n"
          ]
        }
      ]
    },
    {
      "cell_type": "markdown",
      "source": [
        "Kita dapat menentukan device, seperti CPU dan GPU, untuk penyimpanan dan komputasi. Secara default, tensor dibuat di memori utama dan menggunakan CPU untuk komputasi."
      ],
      "metadata": {
        "id": "5UOWxyVhiK1o"
      }
    },
    {
      "cell_type": "code",
      "source": [
        "tf.device('/CPU:0'), tf.device('/GPU:0'), tf.device('/GPU:1')"
      ],
      "metadata": {
        "colab": {
          "base_uri": "https://localhost:8080/"
        },
        "id": "wOouwlDWe-Gh",
        "outputId": "9cc3b25a-b022-4e6e-8bd9-52683a7283b5"
      },
      "execution_count": null,
      "outputs": [
        {
          "output_type": "execute_result",
          "data": {
            "text/plain": [
              "(<tensorflow.python.eager.context._EagerDeviceContext at 0x7f88eb4b3b40>,\n",
              " <tensorflow.python.eager.context._EagerDeviceContext at 0x7f88eb4b3a00>,\n",
              " <tensorflow.python.eager.context._EagerDeviceContext at 0x7f88eb4b3a50>)"
            ]
          },
          "metadata": {},
          "execution_count": 38
        }
      ]
    },
    {
      "cell_type": "markdown",
      "source": [
        "Kita bisa menjalankan query untuk mendapatkan berapa banyak GPU dalam sistem"
      ],
      "metadata": {
        "id": "ZZ_lWjMqiNC-"
      }
    },
    {
      "cell_type": "code",
      "source": [
        "len(tf.config.experimental.list_physical_devices('GPU'))"
      ],
      "metadata": {
        "colab": {
          "base_uri": "https://localhost:8080/"
        },
        "id": "wGuBC89nfAzY",
        "outputId": "293c3535-3911-4fe6-a3af-5609e44d1925"
      },
      "execution_count": null,
      "outputs": [
        {
          "output_type": "execute_result",
          "data": {
            "text/plain": [
              "1"
            ]
          },
          "metadata": {},
          "execution_count": 39
        }
      ]
    },
    {
      "cell_type": "markdown",
      "source": [
        "### Tensor dan GPU\n",
        "\n",
        "Secara default, tensor dibuat dalam CPU, untuk melihat di device mana suatu tensor berada kita bisa menjalankan fungsi seperti ini"
      ],
      "metadata": {
        "id": "6pxV_4QWiPmC"
      }
    },
    {
      "cell_type": "code",
      "source": [
        "x = tf.constant([1, 2, 3])\n",
        "x.device"
      ],
      "metadata": {
        "colab": {
          "base_uri": "https://localhost:8080/",
          "height": 34
        },
        "id": "u8HrMjwTfCtx",
        "outputId": "9765c976-665d-477a-c587-fefa98699f83"
      },
      "execution_count": null,
      "outputs": [
        {
          "output_type": "execute_result",
          "data": {
            "text/plain": [
              "'/job:localhost/replica:0/task:0/device:GPU:0'"
            ],
            "application/vnd.google.colaboratory.intrinsic+json": {
              "type": "string"
            }
          },
          "metadata": {},
          "execution_count": 40
        }
      ]
    },
    {
      "cell_type": "markdown",
      "source": [
        "Outputnya mengatakan GPU karena saya menggunakan google colabs dan telah mengatur runtime pada saat penulisan kode, namun secara default, kalau tidak didefinisikan, akan mengeluarkan output CPU"
      ],
      "metadata": {
        "id": "ir75iQROiTmC"
      }
    },
    {
      "cell_type": "markdown",
      "source": [
        "### Menyetel penggunaan GPU\n",
        "\n",
        "Misal kita ingin menggunakan GPU pertama atau GPU:0"
      ],
      "metadata": {
        "id": "f5rFgIo4iUef"
      }
    },
    {
      "cell_type": "code",
      "source": [
        "tf.device('GPU:0')"
      ],
      "metadata": {
        "colab": {
          "base_uri": "https://localhost:8080/"
        },
        "id": "KQDQkVebfFRJ",
        "outputId": "c09fea94-a277-4550-bd23-f0808507593d"
      },
      "execution_count": null,
      "outputs": [
        {
          "output_type": "execute_result",
          "data": {
            "text/plain": [
              "<tensorflow.python.eager.context._EagerDeviceContext at 0x7f88eb4ae230>"
            ]
          },
          "metadata": {},
          "execution_count": 41
        }
      ]
    },
    {
      "cell_type": "code",
      "source": [
        "with tf.device('GPU:0'):\n",
        "    test = tf.ones((2, 3))\n",
        "\n",
        "test.device"
      ],
      "metadata": {
        "colab": {
          "base_uri": "https://localhost:8080/",
          "height": 34
        },
        "id": "kMy9_8RsfHQv",
        "outputId": "05fb3954-3291-4e42-9bbc-5fe986a48532"
      },
      "execution_count": null,
      "outputs": [
        {
          "output_type": "execute_result",
          "data": {
            "text/plain": [
              "'/job:localhost/replica:0/task:0/device:GPU:0'"
            ],
            "application/vnd.google.colaboratory.intrinsic+json": {
              "type": "string"
            }
          },
          "metadata": {},
          "execution_count": 42
        }
      ]
    },
    {
      "cell_type": "markdown",
      "source": [
        "Hati-hati saat pemilihan GPU terutama jika kita memiliki lebih dari satu GPU dalam satu komputer, karena akan terjadi error jika kita melakukan operasi yang melibatkan 2 tensor yang berada di GPU yang berbeda"
      ],
      "metadata": {
        "id": "KpdNBVgaiZzl"
      }
    }
  ]
}